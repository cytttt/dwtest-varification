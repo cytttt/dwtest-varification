{
 "cells": [
  {
   "cell_type": "markdown",
   "metadata": {},
   "source": [
    "# Goal: to varify the ported dwtest in python is usable or not compare to dwtest in R"
   ]
  },
  {
   "cell_type": "markdown",
   "metadata": {},
   "source": [
    "# ref https://github.com/dima-quant/dwtest"
   ]
  },
  {
   "cell_type": "code",
   "execution_count": 1,
   "metadata": {},
   "outputs": [],
   "source": [
    "\n",
    "from matplotlib import pyplot as plt\n",
    "%matplotlib inline\n",
    "# 設定圖形大小; DPI越大圖越大\n",
    "plt.rcParams[\"figure.dpi\"] = 100\n",
    "import seaborn as sns\n",
    "import os\n",
    "import pandas as pd\n",
    "import numpy as np\n",
    "import scipy.stats as stats\n",
    "import statsmodels.api as sm\n",
    "import statsmodels.stats.api as sms\n",
    "import statsmodels.formula.api as smf\n",
    "import statsmodels.stats.multicomp as smm\n",
    "import statsmodels\n",
    "import statsmodels.stats.outliers_influence as sso"
   ]
  },
  {
   "cell_type": "code",
   "execution_count": 2,
   "metadata": {},
   "outputs": [],
   "source": [
    "nlist = [10,20,50,100,200,500,1000]\n",
    "klist = [1,2,3,5,10]\n",
    "rholist = [0,0.1,0.3,0.5]\n",
    "it = 10000\n",
    "alpha = 0.05\n",
    "# output format\n",
    "colnames = [str(i) for i in klist]\n",
    "rownames = [str(i) for i in nlist]*2\n",
    "#  directory name\n",
    "pys = \"pyresult_ds\"\n",
    "rs = \"rresult_ds\""
   ]
  },
  {
   "cell_type": "markdown",
   "metadata": {},
   "source": [
    "### For $\\rho$ = 0:\n",
    "\n",
    "    We calculate Type I error rate\n",
    "    \n",
    "### For $\\rho \\neq$ 0:\n",
    "    For right-tail and two-tail test:\n",
    "    \n",
    "        We calculate Type II error rate\n",
    "        \n",
    "    For left-tail test:\n",
    "    \n",
    "        We calculate Type I error rate\n",
    "    "
   ]
  },
  {
   "cell_type": "code",
   "execution_count": 3,
   "metadata": {},
   "outputs": [
    {
     "name": "stdout",
     "output_type": "stream",
     "text": [
      "0------------------------------\n",
      "0.1------------------------------\n",
      "0.3------------------------------\n",
      "0.5------------------------------\n"
     ]
    }
   ],
   "source": [
    "for k in rholist:\n",
    "    print(str(k) + \"------------------------------\")\n",
    "    # ---------\n",
    "    pym_r = np.zeros((len(nlist),len(klist)))\n",
    "    pym_t = np.zeros((len(nlist),len(klist)))\n",
    "    pym_l = np.zeros((len(nlist),len(klist)))\n",
    "    rm_r = np.zeros((len(nlist),len(klist)))\n",
    "    rm_t = np.zeros((len(nlist),len(klist)))\n",
    "    rm_l = np.zeros((len(nlist),len(klist)))\n",
    "    \n",
    "    \n",
    "    # ---------\n",
    "    for i in range(len(nlist)):\n",
    "        for j in range(len(klist)):\n",
    "            thisn = it\n",
    "            if nlist[i] == klist[j]:\n",
    "                pym_r[i,j] = float(\"nan\")\n",
    "                pym_t[i,j] = float(\"nan\")\n",
    "                pym_l[i,j] = float(\"nan\")\n",
    "                rm_r[i,j] = float(\"nan\")\n",
    "                rm_t[i,j] = float(\"nan\")\n",
    "                rm_l[i,j] = float(\"nan\")\n",
    "                continue\n",
    "            # -------- file name\n",
    "            tmpname = \"pval\" + str(nlist[i]) + \"_\" + str(klist[j]) + \"_\" + str(k)\n",
    "            # --------\n",
    "            df_py1 = pd.read_csv(pys + \"1/py_\" + tmpname + \".csv\")\n",
    "            df_py2 = pd.read_csv(pys + \"2/py_\" + tmpname + \".csv\")\n",
    "            df_r1 = pd.read_csv(rs + \"1/r_\" + tmpname + \".csv\")\n",
    "            df_r2 = pd.read_csv(rs + \"2/r_\" + tmpname + \".csv\")\n",
    "            df_py = pd.concat([df_py1,df_py2],ignore_index = True,sort = False,axis = 0)\n",
    "            df_r = pd.concat([df_r1,df_r2],ignore_index = True,sort = False,axis = 0)\n",
    "            dftmp = pd.concat([df_py,df_r],axis = 1).dropna()\n",
    "            # -------- fail rate\n",
    "            if dftmp.shape[0] != it:\n",
    "                thisn = dftmp.shape[0]\n",
    "                v = np.around((it-dftmp.shape[0])/it*100,decimals = 2)\n",
    "                if v > 10:\n",
    "                    print(\"For n = %d, k = %d, rho = %.1f\"%(nlist[i],klist[j],k), \" fail rate : \",v ,\"%\",\"----!\")\n",
    "                else:\n",
    "                    print(\"For n = %d, k = %d, rho = %.1f\"%(nlist[i],klist[j],k), \" fail rate : \",v ,\"%\")\n",
    "                \n",
    "            # -------- ,decimals = 3\n",
    "            if k == 0: # type I error rate for rho = 0\n",
    "                pym_r[i,j] = (dftmp[tmpname+\"_r\"]< alpha).sum()/thisn*100\n",
    "                pym_t[i,j] = (dftmp[tmpname+\"_t\"]< alpha).sum()/thisn*100\n",
    "                pym_l[i,j] = (dftmp[tmpname+\"_l\"]< alpha).sum()/thisn*100\n",
    "                rm_r[i,j] = (dftmp[\"right\"]< alpha).sum()/thisn*100\n",
    "                rm_t[i,j] = (dftmp[\"twotail\"]< alpha).sum()/thisn*100\n",
    "                rm_l[i,j] = (dftmp[\"left\"]< alpha).sum()/thisn*100\n",
    "            else:\n",
    "                # type I error rate for left tail\n",
    "                pym_l[i,j] = (dftmp[tmpname+\"_l\"]< alpha).sum()/thisn*100\n",
    "                rm_l[i,j] = (dftmp[\"left\"]< alpha).sum()/thisn*100\n",
    "                # type II error rate for left tail\n",
    "                pym_r[i,j] = (dftmp[tmpname+\"_r\"]> alpha).sum()/thisn*100\n",
    "                pym_t[i,j] = (dftmp[tmpname+\"_t\"]> alpha).sum()/thisn*100\n",
    "                rm_r[i,j] = (dftmp[\"right\"]> alpha).sum()/thisn*100\n",
    "                rm_t[i,j] = (dftmp[\"twotail\"]> alpha).sum()/thisn*100\n",
    "                \n",
    "            # --------\n",
    "    if  not os.path.exists(\"anstable\"):\n",
    "        os.mkdir(\"anstable\")\n",
    "    os.chdir(\"anstable\")\n",
    "    \n",
    "    pd.DataFrame(np.vstack([pym_r,rm_r]), columns = colnames, index=rownames).to_csv(str(k)+\"_right(%)\"+\".csv\" ,mode = 'a',header = True,index = True)\n",
    "    pd.DataFrame(np.vstack([pym_t,rm_t]), columns = colnames, index=rownames).to_csv(str(k)+\"_twotail(%)\"+\".csv\" ,mode = 'a',header = True,index = True)\n",
    "    pd.DataFrame(np.vstack([pym_l,rm_l]), columns = colnames, index=rownames).to_csv(str(k)+\"_left(%)\"+\".csv\" ,mode = 'a',header = True,index = True)\n",
    "    os.chdir(\"../\")\n",
    "    \n",
    "    \n",
    "            "
   ]
  },
  {
   "cell_type": "markdown",
   "metadata": {},
   "source": [
    "#### Fail rate demonstrates the number of iterations in which dwtest cannot calculate the pvalue(generate errors) divided by the total number of iterations."
   ]
  },
  {
   "cell_type": "markdown",
   "metadata": {},
   "source": [
    "#### Seems like the pan algorithm has some problem calculating p values, sometimes it will raise Error.\n",
    "#### ValueErrors come from the function $\\textbf{numpy.linalg.eigvals()}$, which is used to calculating eigenvalues. However, the function will raise ValueError when there exist complex eigenvalues."
   ]
  },
  {
   "cell_type": "code",
   "execution_count": 4,
   "metadata": {},
   "outputs": [],
   "source": [
    "def drawcomparsion(n,k,rho,test = \"right\"):\n",
    "    tmpname = \"pval\" + str(n) + \"_\" + str(k) + \"_\" + str(rho)\n",
    "    # --------\n",
    "    df_py1 = pd.read_csv(pys + \"1/py_\" + tmpname + \".csv\")\n",
    "    df_py2 = pd.read_csv(pys + \"2/py_\" + tmpname + \".csv\")\n",
    "    df_r1 = pd.read_csv(rs + \"1/r_\" + tmpname + \".csv\")\n",
    "    df_r2 = pd.read_csv(rs + \"2/r_\" + tmpname + \".csv\")\n",
    "    df_py = pd.concat([df_py1,df_py2],ignore_index = True,sort = False,axis = 0)\n",
    "    df_r = pd.concat([df_r1,df_r2],ignore_index = True,sort = False,axis = 0)\n",
    "    dftmp = pd.concat([df_py,df_r],axis = 1).dropna()\n",
    "    print(\"1\")\n",
    "    if test == \"right\":\n",
    "        plt.hist([dftmp[tmpname+\"_r\"],dftmp[\"right\"]], bins = 'auto',color = ['mistyrose','skyblue'],label = [\"Python\",\"R\"])\n",
    "        plt.legend(loc='upper right')\n",
    "        plt.title('p value of right-tailed test')\n",
    "        plt.axvline(0.05, color='k', linestyle='dashed', linewidth=1)\n",
    "        plt.show()\n",
    "    elif test == \"twotail\":\n",
    "        plt.hist([dftmp[tmpname+\"_t\"],dftmp[\"twotail\"]], bins = 'auto',color = ['mistyrose','skyblue'],label = [\"Python\",\"R\"])\n",
    "        plt.legend(loc='upper right')\n",
    "        plt.title('p value of two-tailed test')\n",
    "        plt.axvline(0.05, color='k', linestyle='dashed', linewidth=1)\n",
    "        plt.show()\n",
    "    elif test == \"left\":\n",
    "        plt.hist([dftmp[tmpname+\"_l\"],dftmp[\"left\"]], bins = 'auto',color = ['mistyrose','skyblue'],label = [\"Python\",\"R\"])\n",
    "        plt.legend(loc='upper right')\n",
    "        plt.title('p value of left-tailed test')\n",
    "        plt.axvline(0.05, color='k', linestyle='dashed', linewidth=1)\n",
    "        plt.show()"
   ]
  },
  {
   "cell_type": "markdown",
   "metadata": {},
   "source": [
    "right-tailed<br>\n",
    "$H_0$ : $\\rho = 0$<br>\n",
    "$H_1$ : $\\rho$ > 0<br>"
   ]
  },
  {
   "cell_type": "code",
   "execution_count": 5,
   "metadata": {},
   "outputs": [
    {
     "name": "stdout",
     "output_type": "stream",
     "text": [
      "1\n"
     ]
    },
    {
     "data": {
      "image/png": "[encoded data removed]",
      "text/plain": [
       "<Figure size 600x400 with 1 Axes>"
      ]
     },
     "metadata": {
      "needs_background": "light"
     },
     "output_type": "display_data"
    }
   ],
   "source": [
    "drawcomparsion(50,3,0.3,\"right\")"
   ]
  },
  {
   "cell_type": "markdown",
   "metadata": {},
   "source": [
    "two-tailed<br>\n",
    "$H_0$ : $\\rho = 0$<br>\n",
    "$H_1$ : $\\rho$ $\\neq$ 0<br>"
   ]
  },
  {
   "cell_type": "code",
   "execution_count": 6,
   "metadata": {},
   "outputs": [
    {
     "name": "stdout",
     "output_type": "stream",
     "text": [
      "1\n"
     ]
    },
    {
     "data": {
      "image/png": "[encoded data removed]",
      "text/plain": [
       "<Figure size 600x400 with 1 Axes>"
      ]
     },
     "metadata": {
      "needs_background": "light"
     },
     "output_type": "display_data"
    }
   ],
   "source": [
    "drawcomparsion(100,5,0,\"twotail\")"
   ]
  },
  {
   "cell_type": "markdown",
   "metadata": {},
   "source": [
    "left-tailed<br>\n",
    "$H_0$ : $\\rho = 0$<br>\n",
    "$H_1$ : $\\rho$ < 0"
   ]
  },
  {
   "cell_type": "code",
   "execution_count": 7,
   "metadata": {},
   "outputs": [
    {
     "name": "stdout",
     "output_type": "stream",
     "text": [
      "1\n"
     ]
    },
    {
     "data": {
      "image/png": "[encoded data removed]",
      "text/plain": [
       "<Figure size 600x400 with 1 Axes>"
      ]
     },
     "metadata": {
      "needs_background": "light"
     },
     "output_type": "display_data"
    }
   ],
   "source": [
    "drawcomparsion(20,10,0.3,\"left\")"
   ]
  },
  {
   "cell_type": "markdown",
   "metadata": {},
   "source": [
    "# compare execution time"
   ]
  },
  {
   "cell_type": "code",
   "execution_count": 16,
   "metadata": {},
   "outputs": [],
   "source": [
    "dfpyt = pd.read_csv(\"meantime.csv\")\n",
    "dfrt = pd.read_csv(\"meantime_r.csv\")\n",
    "dft = pd.concat([dfpyt,dfrt],axis = 1)\n",
    "dft[\"delta\"] = dfpyt[\"mean\"] - dfrt[\"mean\"]"
   ]
  },
  {
   "cell_type": "code",
   "execution_count": 17,
   "metadata": {},
   "outputs": [
    {
     "data": {
      "text/html": [
       "<div>\n",
       "<style scoped>\n",
       "    .dataframe tbody tr th:only-of-type {\n",
       "        vertical-align: middle;\n",
       "    }\n",
       "\n",
       "    .dataframe tbody tr th {\n",
       "        vertical-align: top;\n",
       "    }\n",
       "\n",
       "    .dataframe thead th {\n",
       "        text-align: right;\n",
       "    }\n",
       "</style>\n",
       "<table border=\"1\" class=\"dataframe\">\n",
       "  <thead>\n",
       "    <tr style=\"text-align: right;\">\n",
       "      <th></th>\n",
       "      <th>mean</th>\n",
       "      <th>mean</th>\n",
       "      <th>delta</th>\n",
       "    </tr>\n",
       "  </thead>\n",
       "  <tbody>\n",
       "    <tr>\n",
       "      <th>0</th>\n",
       "      <td>0.002780</td>\n",
       "      <td>0.003830</td>\n",
       "      <td>-0.001050</td>\n",
       "    </tr>\n",
       "    <tr>\n",
       "      <th>1</th>\n",
       "      <td>0.001202</td>\n",
       "      <td>0.003669</td>\n",
       "      <td>-0.002467</td>\n",
       "    </tr>\n",
       "    <tr>\n",
       "      <th>2</th>\n",
       "      <td>0.001262</td>\n",
       "      <td>0.003969</td>\n",
       "      <td>-0.002707</td>\n",
       "    </tr>\n",
       "    <tr>\n",
       "      <th>3</th>\n",
       "      <td>0.001334</td>\n",
       "      <td>0.003637</td>\n",
       "      <td>-0.002303</td>\n",
       "    </tr>\n",
       "    <tr>\n",
       "      <th>4</th>\n",
       "      <td>0.001643</td>\n",
       "      <td>0.004459</td>\n",
       "      <td>-0.002816</td>\n",
       "    </tr>\n",
       "    <tr>\n",
       "      <th>...</th>\n",
       "      <td>...</td>\n",
       "      <td>...</td>\n",
       "      <td>...</td>\n",
       "    </tr>\n",
       "    <tr>\n",
       "      <th>75</th>\n",
       "      <td>0.002089</td>\n",
       "      <td>0.009737</td>\n",
       "      <td>-0.007649</td>\n",
       "    </tr>\n",
       "    <tr>\n",
       "      <th>76</th>\n",
       "      <td>0.002983</td>\n",
       "      <td>0.016450</td>\n",
       "      <td>-0.013466</td>\n",
       "    </tr>\n",
       "    <tr>\n",
       "      <th>77</th>\n",
       "      <td>0.002930</td>\n",
       "      <td>0.015981</td>\n",
       "      <td>-0.013051</td>\n",
       "    </tr>\n",
       "    <tr>\n",
       "      <th>78</th>\n",
       "      <td>0.003465</td>\n",
       "      <td>0.015750</td>\n",
       "      <td>-0.012285</td>\n",
       "    </tr>\n",
       "    <tr>\n",
       "      <th>79</th>\n",
       "      <td>0.003057</td>\n",
       "      <td>0.016235</td>\n",
       "      <td>-0.013178</td>\n",
       "    </tr>\n",
       "  </tbody>\n",
       "</table>\n",
       "<p>80 rows × 3 columns</p>\n",
       "</div>"
      ],
      "text/plain": [
       "        mean      mean     delta\n",
       "0   0.002780  0.003830 -0.001050\n",
       "1   0.001202  0.003669 -0.002467\n",
       "2   0.001262  0.003969 -0.002707\n",
       "3   0.001334  0.003637 -0.002303\n",
       "4   0.001643  0.004459 -0.002816\n",
       "..       ...       ...       ...\n",
       "75  0.002089  0.009737 -0.007649\n",
       "76  0.002983  0.016450 -0.013466\n",
       "77  0.002930  0.015981 -0.013051\n",
       "78  0.003465  0.015750 -0.012285\n",
       "79  0.003057  0.016235 -0.013178\n",
       "\n",
       "[80 rows x 3 columns]"
      ]
     },
     "execution_count": 17,
     "metadata": {},
     "output_type": "execute_result"
    }
   ],
   "source": [
    "dft"
   ]
  },
  {
   "cell_type": "code",
   "execution_count": null,
   "metadata": {},
   "outputs": [],
   "source": []
  },
  {
   "cell_type": "code",
   "execution_count": null,
   "metadata": {},
   "outputs": [],
   "source": []
  }
 ],
 "metadata": {
  "kernelspec": {
   "display_name": "Python 3",
   "language": "python",
   "name": "python3"
  },
  "language_info": {
   "codemirror_mode": {
    "name": "ipython",
    "version": 3
   },
   "file_extension": ".py",
   "mimetype": "text/x-python",
   "name": "python",
   "nbconvert_exporter": "python",
   "pygments_lexer": "ipython3",
   "version": "3.7.6"
  }
 },
 "nbformat": 4,
 "nbformat_minor": 4
}
